{
 "cells": [
  {
   "cell_type": "code",
   "execution_count": 1,
   "id": "340fb096",
   "metadata": {},
   "outputs": [],
   "source": [
    "%reset -f"
   ]
  },
  {
   "cell_type": "markdown",
   "id": "f75e4310",
   "metadata": {},
   "source": [
    "## Imports"
   ]
  },
  {
   "cell_type": "code",
   "execution_count": 2,
   "id": "7a4a8a67",
   "metadata": {},
   "outputs": [],
   "source": [
    "import fitz\n",
    "import os\n",
    "import re\n",
    "from glob import glob\n",
    "import pandas as pd\n",
    "from runner import runner\n",
    "from docx import Document\n",
    "import ocrmypdf"
   ]
  },
  {
   "cell_type": "markdown",
   "id": "ff3d88fc",
   "metadata": {},
   "source": [
    "## Functions"
   ]
  },
  {
   "cell_type": "code",
   "execution_count": 3,
   "id": "40fc6ab6",
   "metadata": {},
   "outputs": [],
   "source": [
    "def findExtensions(dr, ext):\n",
    "    return glob(os.path.join(dr, \"*.{}\".format(ext)))\n",
    "\n",
    "def getSubsetText(t):\n",
    "    start = None\n",
    "    stop = None\n",
    "    if len(re.findall(r'CASE %', t)) > 0:\n",
    "        start = [i.start() for i in re.finditer(r'CASE ', t)][-1]\n",
    "    else:\n",
    "        if re.search(r'CASE %', t):\n",
    "            start = re.search(r'CASE %', t).start()\n",
    "    if re.search(r'DISCUSSION', t):\n",
    "        stop = re.search(r'DISCUSSION', t).start()\n",
    "        recordStart = False\n",
    "    elif re.search(r'REFERENCES', t):\n",
    "        stop = re.search(r'REFERENCES', t).start()\n",
    "        recordStart = False\n",
    "    \n",
    "    if start is not None and stop is not None:\n",
    "        return t[start:stop]\n",
    "    elif start is not None and stop is None:\n",
    "        return t[start:]\n",
    "    elif start is None and stop is not None:\n",
    "        return t[:stop]\n",
    "    else:\n",
    "        return t"
   ]
  },
  {
   "cell_type": "markdown",
   "id": "503de4ec",
   "metadata": {},
   "source": [
    "## Variables"
   ]
  },
  {
   "cell_type": "code",
   "execution_count": 4,
   "id": "02896f6e",
   "metadata": {},
   "outputs": [],
   "source": [
    "inputDir = '../data/input/'\n",
    "outputDir = '../data/output/'\n",
    "listOfPDF = findExtensions(inputDir, 'pdf')\n",
    "listOfDocs = findExtensions(inputDir, 'docx')\n",
    "settingsFile = '../settings.ini'\n",
    "scannedPDFs = []"
   ]
  },
  {
   "cell_type": "code",
   "execution_count": 5,
   "id": "572a6de9",
   "metadata": {},
   "outputs": [],
   "source": [
    "# Convert pdf to txt\n",
    "def pdf2Text(listOfPDF):\n",
    "    for pdf in listOfPDF:\n",
    "        with fitz.open(pdf) as doc:\n",
    "            text = \"\"\n",
    "            for page in doc:\n",
    "                text += page.getText()\n",
    "        if text == '':\n",
    "            scannedPDFs.append(pdf)\n",
    "        subsetText = getSubsetText(text)\n",
    "        #print(subsetText)\n",
    "        fn = (pdf.split('/')[-1].replace('pdf', 'txt'))\n",
    "        outFile = os.path.join(inputDir, fn)\n",
    "\n",
    "        with open(outFile, 'w') as of:\n",
    "            of.writelines(subsetText)\n",
    "            print('File written: '+outFile)"
   ]
  },
  {
   "cell_type": "code",
   "execution_count": 6,
   "id": "b3476e66",
   "metadata": {},
   "outputs": [
    {
     "name": "stdout",
     "output_type": "stream",
     "text": [
      "File written: ../data/input/CaseReport16.txt\n",
      "File written: ../data/input/CaseReport17.txt\n",
      "File written: ../data/input/CaseReport15.txt\n",
      "File written: ../data/input/CaseReport14.txt\n",
      "File written: ../data/input/CaseReport10.txt\n",
      "File written: ../data/input/CaseReport11.txt\n",
      "File written: ../data/input/CaseReport13.txt\n",
      "File written: ../data/input/CaseReport12.txt\n",
      "File written: ../data/input/CaseReport3.txt\n",
      "File written: ../data/input/CaseReport2.txt\n",
      "File written: ../data/input/Epicrisis24.txt\n",
      "File written: ../data/input/CaseReport1.txt\n",
      "File written: ../data/input/CaseReport5.txt\n",
      "File written: ../data/input/CaseReport4.txt\n",
      "File written: ../data/input/Epicrisis22.txt\n",
      "File written: ../data/input/CaseReport6.txt\n",
      "File written: ../data/input/CaseReport7.txt\n",
      "File written: ../data/input/Epicrisis11.txt\n",
      "File written: ../data/input/CaseReport9.txt\n",
      "File written: ../data/input/CaseReport8.txt\n",
      "File written: ../data/input/CaseReport23.txt\n",
      "File written: ../data/input/CaseReport22.txt\n",
      "File written: ../data/input/CaseReport20.txt\n",
      "File written: ../data/input/CaseReport21.txt\n",
      "File written: ../data/input/CaseReport19.txt\n",
      "File written: ../data/input/CaseReport24.txt\n",
      "File written: ../data/input/CaseReport18.txt\n"
     ]
    }
   ],
   "source": [
    "pdf2Text(listOfPDF)"
   ]
  },
  {
   "cell_type": "code",
   "execution_count": 7,
   "id": "6684a0e0",
   "metadata": {},
   "outputs": [
    {
     "name": "stdout",
     "output_type": "stream",
     "text": [
      "Scanning contents: 100%|████████████████████████| 1/1 [00:00<00:00, 81.91page/s]\n",
      "OCR: 100%|██████████████████████████████████| 1.0/1.0 [00:02<00:00,  2.19s/page]\n",
      "Postprocessing...\n",
      "PDF/A conversion: 100%|█████████████████████████| 1/1 [00:00<00:00,  6.78page/s]\n",
      "\u001b[33mSome input metadata could not be copied because it is not permitted in PDF/A. You may wish to examine the output PDF's XMP metadata.\u001b[0m\n",
      "JPEGs: 0image [00:00, ?image/s]\n",
      "JBIG2: 0item [00:00, ?item/s]\n",
      "Optimize ratio: 1.00 savings: 0.0%\n",
      "Output file is a PDF/A-2B (as expected)\n",
      "Scanning contents: 100%|███████████████████████| 2/2 [00:00<00:00, 136.04page/s]\n",
      "Start processing 2 pages concurrently\n",
      "OCR: 100%|██████████████████████████████████| 2.0/2.0 [00:02<00:00,  1.18s/page]\n",
      "Postprocessing...\n",
      "\u001b[33mSome input metadata could not be copied because it is not permitted in PDF/A. You may wish to examine the output PDF's XMP metadata.\u001b[0m\n",
      "PDF/A conversion: 100%|█████████████████████████| 2/2 [00:00<00:00,  6.11page/s]\n",
      "JPEGs: 0image [00:00, ?image/s]\n",
      "JBIG2: 0item [00:00, ?item/s]\n",
      "Optimize ratio: 1.00 savings: 0.0%\n",
      "Output file is a PDF/A-2B (as expected)\n"
     ]
    }
   ],
   "source": [
    "for doc in scannedPDFs:\n",
    "    ! ocrmypdf $doc $doc"
   ]
  },
  {
   "cell_type": "code",
   "execution_count": 8,
   "id": "34a0bab5",
   "metadata": {},
   "outputs": [
    {
     "name": "stdout",
     "output_type": "stream",
     "text": [
      "File written: ../data/input/Epicrisis24.txt\n",
      "File written: ../data/input/Epicrisis22.txt\n"
     ]
    }
   ],
   "source": [
    "pdf2Text(scannedPDFs)"
   ]
  },
  {
   "cell_type": "code",
   "execution_count": 9,
   "id": "ecba49f9",
   "metadata": {},
   "outputs": [
    {
     "name": "stdout",
     "output_type": "stream",
     "text": [
      "File written: ../data/input/Epicrisis21.txt\n",
      "File written: ../data/input/Epicrisis2.txt\n",
      "File written: ../data/input/Epicrisis17.txt\n",
      "File written: ../data/input/Epicrisis16.txt\n",
      "File written: ../data/input/Epicrisis3.txt\n",
      "File written: ../data/input/Epicrisis20.txt\n",
      "File written: ../data/input/Epicrisis8.txt\n",
      "File written: ../data/input/Epicrisis4.txt\n",
      "File written: ../data/input/Epicrisis5.txt\n",
      "File written: ../data/input/Epicrisis10.txt\n",
      "File written: ../data/input/Epicrisis9.txt\n",
      "File written: ../data/input/Epicrisis13.txt\n",
      "File written: ../data/input/Epicrisis6.txt\n",
      "File written: ../data/input/Epicrisis25.txt\n",
      "File written: ../data/input/Epicrisis7.txt\n",
      "File written: ../data/input/Epicrisis12.txt\n",
      "File written: ../data/input/Epicrisis19.txt\n",
      "File written: ../data/input/Epicrisis23.txt\n",
      "File written: ../data/input/Epicrisis15.txt\n",
      "File written: ../data/input/Epicrisis14.txt\n",
      "File written: ../data/input/Epicrisis1.txt\n",
      "File written: ../data/input/Epicrisis18.txt\n"
     ]
    }
   ],
   "source": [
    "# Convert docx to txt\n",
    "for docx in listOfDocs:\n",
    "    doc = Document(docx)\n",
    "    text = ''\n",
    "    for para in doc.paragraphs:\n",
    "        text += para.text\n",
    "    fn = docx.split('/')[-1].replace('docx', 'txt')\n",
    "    outFile = os.path.join(inputDir, fn)\n",
    "    \n",
    "    with open(outFile, 'w') as of:\n",
    "        of.writelines(text)\n",
    "        print('File written: '+outFile)\n",
    "        "
   ]
  },
  {
   "cell_type": "code",
   "execution_count": 10,
   "id": "62f976cd",
   "metadata": {},
   "outputs": [],
   "source": [
    "# Run runNER\n",
    "runner.run_oger(settings=settingsFile)"
   ]
  },
  {
   "cell_type": "code",
   "execution_count": 11,
   "id": "3c91750a",
   "metadata": {},
   "outputs": [
    {
     "data": {
      "text/html": [
       "<div>\n",
       "<style scoped>\n",
       "    .dataframe tbody tr th:only-of-type {\n",
       "        vertical-align: middle;\n",
       "    }\n",
       "\n",
       "    .dataframe tbody tr th {\n",
       "        vertical-align: top;\n",
       "    }\n",
       "\n",
       "    .dataframe thead th {\n",
       "        text-align: right;\n",
       "    }\n",
       "</style>\n",
       "<table border=\"1\" class=\"dataframe\">\n",
       "  <thead>\n",
       "    <tr style=\"text-align: right;\">\n",
       "      <th></th>\n",
       "      <th>DOCUMENT ID</th>\n",
       "      <th>TYPE</th>\n",
       "      <th>START POSITION</th>\n",
       "      <th>END POSITION</th>\n",
       "      <th>MATCHED TERM</th>\n",
       "      <th>PREFERRED FORM</th>\n",
       "      <th>ENTITY ID</th>\n",
       "      <th>ORIGIN</th>\n",
       "      <th>SENTENCE</th>\n",
       "    </tr>\n",
       "  </thead>\n",
       "  <tbody>\n",
       "    <tr>\n",
       "      <th>0</th>\n",
       "      <td>Epicrisis24</td>\n",
       "      <td>biolink:ChemicalSubstance</td>\n",
       "      <td>15</td>\n",
       "      <td>16</td>\n",
       "      <td>G</td>\n",
       "      <td>glycine</td>\n",
       "      <td>CHEBI:15428_SYNONYM</td>\n",
       "      <td>hp.json</td>\n",
       "      <td>UK -3=t  — ooo G.  Wl 2les —&gt; B2\\ or \\rar&amp;    ...</td>\n",
       "    </tr>\n",
       "    <tr>\n",
       "      <th>1</th>\n",
       "      <td>Epicrisis24</td>\n",
       "      <td>biolink:ChemicalSubstance</td>\n",
       "      <td>15</td>\n",
       "      <td>16</td>\n",
       "      <td>G</td>\n",
       "      <td>guanine</td>\n",
       "      <td>CHEBI:16235_SYNONYM</td>\n",
       "      <td>hp.json</td>\n",
       "      <td>UK -3=t  — ooo G.  Wl 2les —&gt; B2\\ or \\rar&amp;    ...</td>\n",
       "    </tr>\n",
       "    <tr>\n",
       "      <th>2</th>\n",
       "      <td>Epicrisis24</td>\n",
       "      <td>biolink:AnatomicalEntity</td>\n",
       "      <td>217</td>\n",
       "      <td>222</td>\n",
       "      <td>blood</td>\n",
       "      <td>blood</td>\n",
       "      <td>UBERON:0000178</td>\n",
       "      <td>hp.json</td>\n",
       "      <td>\"=  Re  a ea  Presenting Complaint:  ve blood ...</td>\n",
       "    </tr>\n",
       "    <tr>\n",
       "      <th>3</th>\n",
       "      <td>Epicrisis24</td>\n",
       "      <td>biolink:AnatomicalEntity</td>\n",
       "      <td>234</td>\n",
       "      <td>239</td>\n",
       "      <td>mouth</td>\n",
       "      <td>mouth</td>\n",
       "      <td>UBERON:0000165</td>\n",
       "      <td>hp.json</td>\n",
       "      <td>\"=  Re  a ea  Presenting Complaint:  ve blood ...</td>\n",
       "    </tr>\n",
       "    <tr>\n",
       "      <th>4</th>\n",
       "      <td>Epicrisis24</td>\n",
       "      <td>biolink:AnatomicalEntity</td>\n",
       "      <td>234</td>\n",
       "      <td>239</td>\n",
       "      <td>mouth</td>\n",
       "      <td>oral opening</td>\n",
       "      <td>UBERON:0000166_SYNONYM</td>\n",
       "      <td>hp.json</td>\n",
       "      <td>\"=  Re  a ea  Presenting Complaint:  ve blood ...</td>\n",
       "    </tr>\n",
       "  </tbody>\n",
       "</table>\n",
       "</div>"
      ],
      "text/plain": [
       "   DOCUMENT ID                       TYPE  START POSITION  END POSITION  \\\n",
       "0  Epicrisis24  biolink:ChemicalSubstance              15            16   \n",
       "1  Epicrisis24  biolink:ChemicalSubstance              15            16   \n",
       "2  Epicrisis24   biolink:AnatomicalEntity             217           222   \n",
       "3  Epicrisis24   biolink:AnatomicalEntity             234           239   \n",
       "4  Epicrisis24   biolink:AnatomicalEntity             234           239   \n",
       "\n",
       "  MATCHED TERM PREFERRED FORM               ENTITY ID   ORIGIN  \\\n",
       "0            G        glycine     CHEBI:15428_SYNONYM  hp.json   \n",
       "1            G        guanine     CHEBI:16235_SYNONYM  hp.json   \n",
       "2        blood          blood          UBERON:0000178  hp.json   \n",
       "3        mouth          mouth          UBERON:0000165  hp.json   \n",
       "4        mouth   oral opening  UBERON:0000166_SYNONYM  hp.json   \n",
       "\n",
       "                                            SENTENCE  \n",
       "0  UK -3=t  — ooo G.  Wl 2les —> B2\\ or \\rar&    ...  \n",
       "1  UK -3=t  — ooo G.  Wl 2les —> B2\\ or \\rar&    ...  \n",
       "2  \"=  Re  a ea  Presenting Complaint:  ve blood ...  \n",
       "3  \"=  Re  a ea  Presenting Complaint:  ve blood ...  \n",
       "4  \"=  Re  a ea  Presenting Complaint:  ve blood ...  "
      ]
     },
     "execution_count": 11,
     "metadata": {},
     "output_type": "execute_result"
    }
   ],
   "source": [
    "# read runNER output\n",
    "df = pd.read_csv(os.path.join(outputDir, 'runNER_Output.tsv'), sep='\\t', low_memory=False)\n",
    "df = df.drop(['ZONE', 'SENTENCE ID', 'UMLS CUI'], axis = 1)\n",
    "df.head()"
   ]
  },
  {
   "cell_type": "code",
   "execution_count": 12,
   "id": "2ad7ccf7",
   "metadata": {},
   "outputs": [
    {
     "data": {
      "text/html": [
       "<div>\n",
       "<style scoped>\n",
       "    .dataframe tbody tr th:only-of-type {\n",
       "        vertical-align: middle;\n",
       "    }\n",
       "\n",
       "    .dataframe tbody tr th {\n",
       "        vertical-align: top;\n",
       "    }\n",
       "\n",
       "    .dataframe thead th {\n",
       "        text-align: right;\n",
       "    }\n",
       "</style>\n",
       "<table border=\"1\" class=\"dataframe\">\n",
       "  <thead>\n",
       "    <tr style=\"text-align: right;\">\n",
       "      <th></th>\n",
       "      <th>DOCUMENT ID</th>\n",
       "      <th>TYPE</th>\n",
       "      <th>START POSITION</th>\n",
       "      <th>END POSITION</th>\n",
       "      <th>MATCHED TERM</th>\n",
       "      <th>PREFERRED FORM</th>\n",
       "      <th>ENTITY ID</th>\n",
       "      <th>ORIGIN</th>\n",
       "      <th>SENTENCE</th>\n",
       "    </tr>\n",
       "  </thead>\n",
       "  <tbody>\n",
       "    <tr>\n",
       "      <th>9</th>\n",
       "      <td>Epicrisis24</td>\n",
       "      <td>biolink:PhenotypicFeature</td>\n",
       "      <td>344</td>\n",
       "      <td>349</td>\n",
       "      <td>Acute</td>\n",
       "      <td>Acute</td>\n",
       "      <td>HP:0011009</td>\n",
       "      <td>hp.json</td>\n",
       "      <td>| Primary Diagnosis:  Acute idiopathic pulmonm...</td>\n",
       "    </tr>\n",
       "    <tr>\n",
       "      <th>10</th>\n",
       "      <td>Epicrisis24</td>\n",
       "      <td>biolink:PhenotypicFeature</td>\n",
       "      <td>415</td>\n",
       "      <td>421</td>\n",
       "      <td>sepsis</td>\n",
       "      <td>Sepsis</td>\n",
       "      <td>HP:0100806</td>\n",
       "      <td>hp.json</td>\n",
       "      <td>Secondary Diagnoses:  Likely sepsis.</td>\n",
       "    </tr>\n",
       "    <tr>\n",
       "      <th>12</th>\n",
       "      <td>Epicrisis24</td>\n",
       "      <td>biolink:PhenotypicFeature</td>\n",
       "      <td>427</td>\n",
       "      <td>435</td>\n",
       "      <td>positive</td>\n",
       "      <td>Position</td>\n",
       "      <td>HP:0012830</td>\n",
       "      <td>hp.json</td>\n",
       "      <td>NPA positive for Rhinovirus/Enterovirus.</td>\n",
       "    </tr>\n",
       "    <tr>\n",
       "      <th>20</th>\n",
       "      <td>Epicrisis24</td>\n",
       "      <td>biolink:PhenotypicFeature</td>\n",
       "      <td>736</td>\n",
       "      <td>756</td>\n",
       "      <td>respiratory distress</td>\n",
       "      <td>Respiratory distress</td>\n",
       "      <td>HP:0002098</td>\n",
       "      <td>hp.json</td>\n",
       "      <td>On arrival to CED in Derby he was cyanotic and...</td>\n",
       "    </tr>\n",
       "    <tr>\n",
       "      <th>31</th>\n",
       "      <td>Epicrisis24</td>\n",
       "      <td>biolink:PhenotypicFeature</td>\n",
       "      <td>1055</td>\n",
       "      <td>1064</td>\n",
       "      <td>frequency</td>\n",
       "      <td>Frequency</td>\n",
       "      <td>HP:0040279</td>\n",
       "      <td>hp.json</td>\n",
       "      <td>&gt;&lt; remained intubated and ventilated for 5 day...</td>\n",
       "    </tr>\n",
       "  </tbody>\n",
       "</table>\n",
       "</div>"
      ],
      "text/plain": [
       "    DOCUMENT ID                       TYPE  START POSITION  END POSITION  \\\n",
       "9   Epicrisis24  biolink:PhenotypicFeature             344           349   \n",
       "10  Epicrisis24  biolink:PhenotypicFeature             415           421   \n",
       "12  Epicrisis24  biolink:PhenotypicFeature             427           435   \n",
       "20  Epicrisis24  biolink:PhenotypicFeature             736           756   \n",
       "31  Epicrisis24  biolink:PhenotypicFeature            1055          1064   \n",
       "\n",
       "            MATCHED TERM        PREFERRED FORM   ENTITY ID   ORIGIN  \\\n",
       "9                  Acute                 Acute  HP:0011009  hp.json   \n",
       "10                sepsis                Sepsis  HP:0100806  hp.json   \n",
       "12              positive              Position  HP:0012830  hp.json   \n",
       "20  respiratory distress  Respiratory distress  HP:0002098  hp.json   \n",
       "31             frequency             Frequency  HP:0040279  hp.json   \n",
       "\n",
       "                                             SENTENCE  \n",
       "9   | Primary Diagnosis:  Acute idiopathic pulmonm...  \n",
       "10               Secondary Diagnoses:  Likely sepsis.  \n",
       "12           NPA positive for Rhinovirus/Enterovirus.  \n",
       "20  On arrival to CED in Derby he was cyanotic and...  \n",
       "31  >< remained intubated and ventilated for 5 day...  "
      ]
     },
     "execution_count": 12,
     "metadata": {},
     "output_type": "execute_result"
    }
   ],
   "source": [
    "filteredDF = df[df['ENTITY ID'].str.startswith('HP:')].drop_duplicates()\n",
    "filteredDF.head()"
   ]
  },
  {
   "cell_type": "code",
   "execution_count": 13,
   "id": "624b933d",
   "metadata": {},
   "outputs": [],
   "source": [
    "filteredDF.to_csv(os.path.join(outputDir,'filteredOutput.tsv'), sep='\\t', index=None)"
   ]
  },
  {
   "cell_type": "code",
   "execution_count": null,
   "id": "38511813",
   "metadata": {},
   "outputs": [],
   "source": []
  }
 ],
 "metadata": {
  "kernelspec": {
   "display_name": "Python 3",
   "language": "python",
   "name": "python3"
  },
  "language_info": {
   "codemirror_mode": {
    "name": "ipython",
    "version": 3
   },
   "file_extension": ".py",
   "mimetype": "text/x-python",
   "name": "python",
   "nbconvert_exporter": "python",
   "pygments_lexer": "ipython3",
   "version": "3.9.4"
  }
 },
 "nbformat": 4,
 "nbformat_minor": 5
}
