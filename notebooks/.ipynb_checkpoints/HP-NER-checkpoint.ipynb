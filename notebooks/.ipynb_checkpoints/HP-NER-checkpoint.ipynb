{
 "cells": [
  {
   "cell_type": "code",
   "execution_count": 1,
   "id": "340fb096",
   "metadata": {},
   "outputs": [],
   "source": [
    "%reset -f"
   ]
  },
  {
   "cell_type": "markdown",
   "id": "f75e4310",
   "metadata": {},
   "source": [
    "## Imports"
   ]
  },
  {
   "cell_type": "code",
   "execution_count": 2,
   "id": "7a4a8a67",
   "metadata": {},
   "outputs": [],
   "source": [
    "import fitz\n",
    "import os\n",
    "import re\n",
    "from glob import glob\n",
    "import pandas as pd\n",
    "from runner import runner\n",
    "from docx import Document\n",
    "import ocrmypdf"
   ]
  },
  {
   "cell_type": "markdown",
   "id": "ff3d88fc",
   "metadata": {},
   "source": [
    "## Functions"
   ]
  },
  {
   "cell_type": "code",
   "execution_count": 3,
   "id": "40fc6ab6",
   "metadata": {},
   "outputs": [],
   "source": [
    "def findExtensions(dr, ext):\n",
    "    return glob(os.path.join(dr, \"*.{}\".format(ext)))\n",
    "\n",
    "def getSubsetText(t):\n",
    "    start = None\n",
    "    stop = None\n",
    "    if len(re.findall(r'CASE %', t)) > 0:\n",
    "        start = [i.start() for i in re.finditer(r'CASE ', t)][-1]\n",
    "    else:\n",
    "        if re.search(r'CASE %', t):\n",
    "            start = re.search(r'CASE %', t).start()\n",
    "    if re.search(r'DISCUSSION', t):\n",
    "        stop = re.search(r'DISCUSSION', t).start()\n",
    "        recordStart = False\n",
    "    elif re.search(r'REFERENCES', t):\n",
    "        stop = re.search(r'REFERENCES', t).start()\n",
    "        recordStart = False\n",
    "    \n",
    "    if start is not None and stop is not None:\n",
    "        return t[start:stop]\n",
    "    elif start is not None and stop is None:\n",
    "        return t[start:]\n",
    "    elif start is None and stop is not None:\n",
    "        return t[:stop]\n",
    "    else:\n",
    "        return t"
   ]
  },
  {
   "cell_type": "markdown",
   "id": "503de4ec",
   "metadata": {},
   "source": [
    "## Variables"
   ]
  },
  {
   "cell_type": "code",
   "execution_count": 4,
   "id": "02896f6e",
   "metadata": {},
   "outputs": [],
   "source": [
    "inputDir = '../data/input/'\n",
    "outputDir = '../data/output/'\n",
    "listOfPDF = findExtensions(inputDir, 'pdf')\n",
    "listOfDocs = findExtensions(inputDir, 'docx')\n",
    "settingsFile = '../settings.ini'\n",
    "scannedPDFs = []\n",
    "termsDir = '../terms/'"
   ]
  },
  {
   "cell_type": "markdown",
   "id": "a2341ec5",
   "metadata": {},
   "source": [
    "## JSON => TSV"
   ]
  },
  {
   "cell_type": "code",
   "execution_count": 8,
   "id": "c4955d4c",
   "metadata": {},
   "outputs": [
    {
     "name": "stdout",
     "output_type": "stream",
     "text": [
      "[KGX][cli_utils.py][    transform_source] INFO: Processing source 'hp-full.json'\n"
     ]
    },
    {
     "name": "stderr",
     "output_type": "stream",
     "text": [
      "WARNING:ToolkitGenerator:Range of slot 'treated by' (treatment) does not line with the domain of its inverse (treats)\n",
      "WARNING:ToolkitGenerator:Range of slot 'approved for treatment by' (treatment) does not line with the domain of its inverse (approved to treat)\n",
      "WARNING:ToolkitGenerator:Prefix case mismatch - supplied: NCBIGene expected: NCBIGENE\n",
      "WARNING:ToolkitGenerator:Prefix case mismatch - supplied: NCBIGene expected: NCBIGENE\n"
     ]
    },
    {
     "name": "stdout",
     "output_type": "stream",
     "text": [
      "Skipping line as it does not have a name field: OBO:pato#scalar_slim\tbiolink:OntologyClass\t\t\t\thp-full.json\t\thttp://purl.obolibrary.org/obo/pato#scalar_slim\n",
      "Skipping line as it does not have a name field: OBO:uberon/core#functional_classification\tbiolink:OntologyClass\t\t\t\thp-full.json\t\thttp://purl.obolibrary.org/obo/uberon/core#functional_classification\n",
      "Skipping line as it does not have a name field: OBO:go#goslim_metagenomics\tbiolink:OntologyClass\t\t\t\thp-full.json\t\thttp://purl.obolibrary.org/obo/go#goslim_metagenomics\n",
      "Skipping line as it does not have a name field: OBO:pato#relational_slim\tbiolink:OntologyClass\t\t\t\thp-full.json\t\thttp://purl.obolibrary.org/obo/pato#relational_slim\n",
      "Skipping line as it does not have a name field: OBO:hp#secondary_consequence\tbiolink:OntologyClass\t\t\t\thp-full.json\t\thttp://purl.obolibrary.org/obo/hp#secondary_consequence\n",
      "Skipping line as it does not have a name field: OBO:uberon/core#upper_level\tbiolink:OntologyClass\t\t\t\thp-full.json\t\thttp://purl.obolibrary.org/obo/uberon/core#upper_level\n",
      "Skipping line as it does not have a name field: OBO:go#goslim_flybase_ribbon\tbiolink:OntologyClass\t\t\t\thp-full.json\t\thttp://purl.obolibrary.org/obo/go#goslim_flybase_ribbon\n",
      "Skipping line as it does not have a name field: OBO:uberon/core#organ_slim\tbiolink:OntologyClass\t\t\t\thp-full.json\t\thttp://purl.obolibrary.org/obo/uberon/core#organ_slim\n",
      "Skipping line as it does not have a name field: OBO:go#goslim_agr\tbiolink:OntologyClass\t\t\t\thp-full.json\t\thttp://purl.obolibrary.org/obo/go#goslim_agr\n",
      "Skipping line as it does not have a name field: OBO:uberon/core#emapa_ehdaa2\tbiolink:OntologyClass\t\t\t\thp-full.json\t\thttp://purl.obolibrary.org/obo/uberon/core#emapa_ehdaa2\n",
      "Skipping line as it does not have a name field: OBO:go#goslim_generic\tbiolink:OntologyClass\t\t\t\thp-full.json\t\thttp://purl.obolibrary.org/obo/go#goslim_generic\n",
      "Skipping line as it does not have a name field: OBO:uberon/core#efo_slim\tbiolink:OntologyClass\t\t\t\thp-full.json\t\thttp://purl.obolibrary.org/obo/uberon/core#efo_slim\n",
      "Skipping line as it does not have a name field: OBO:go#gocheck_do_not_annotate\tbiolink:OntologyClass\t\t\t\thp-full.json\t\thttp://purl.obolibrary.org/obo/go#gocheck_do_not_annotate\n",
      "Skipping line as it does not have a name field: OBO:pato#abnormal_slim\tbiolink:OntologyClass\t\t\t\thp-full.json\t\thttp://purl.obolibrary.org/obo/pato#abnormal_slim\n",
      "Skipping line as it does not have a name field: OBO:uberon/core#homology_grouping\tbiolink:OntologyClass\t\t\t\thp-full.json\t\thttp://purl.obolibrary.org/obo/uberon/core#homology_grouping\n",
      "Skipping line as it does not have a name field: OBO:uberon/core#developmental_classification\tbiolink:OntologyClass\t\t\t\thp-full.json\t\thttp://purl.obolibrary.org/obo/uberon/core#developmental_classification\n",
      "Skipping line as it does not have a name field: OBO:go#goslim_plant\tbiolink:OntologyClass\t\t\t\thp-full.json\t\thttp://purl.obolibrary.org/obo/go#goslim_plant\n",
      "Skipping line as it does not have a name field: OBO:uberon/core#cyclostome_subset\tbiolink:OntologyClass\t\t\t\thp-full.json\t\thttp://purl.obolibrary.org/obo/uberon/core#cyclostome_subset\n",
      "Skipping line as it does not have a name field: OBO:go#goslim_synapse\tbiolink:OntologyClass\t\t\t\thp-full.json\t\thttp://purl.obolibrary.org/obo/go#goslim_synapse\n",
      "Skipping line as it does not have a name field: OIO:Subset\tbiolink:OntologyClass\t\t\t\thp-full.json\t\thttp://www.geneontology.org/formats/oboInOwl#Subset\n",
      "Skipping line as it does not have a name field: OBO:pato#attribute_slim\tbiolink:OntologyClass\t\t\t\thp-full.json\t\thttp://purl.obolibrary.org/obo/pato#attribute_slim\n",
      "Skipping line as it does not have a name field: OBO:uberon/core#grouping_class\tbiolink:OntologyClass\t\t\t\thp-full.json\t\thttp://purl.obolibrary.org/obo/uberon/core#grouping_class\n",
      "Skipping line as it does not have a name field: OBO:ubprop#_upper_level\tbiolink:OntologyClass\t\t\t\thp-full.json\t\thttp://purl.obolibrary.org/obo/ubprop#_upper_level\n",
      "Skipping line as it does not have a name field: OBO:go#goslim_yeast\tbiolink:OntologyClass\t\t\t\thp-full.json\t\thttp://purl.obolibrary.org/obo/go#goslim_yeast\n",
      "Skipping line as it does not have a name field: OBO:chebi#1_STAR\tbiolink:OntologyClass\t\t\t\thp-full.json\t\thttp://purl.obolibrary.org/obo/chebi#1_STAR\n",
      "Skipping line as it does not have a name field: OBO:go#goslim_chembl\tbiolink:OntologyClass\t\t\t\thp-full.json\t\thttp://purl.obolibrary.org/obo/go#goslim_chembl\n",
      "Skipping line as it does not have a name field: OBO:chebi#2_STAR\tbiolink:OntologyClass\t\t\t\thp-full.json\t\thttp://purl.obolibrary.org/obo/chebi#2_STAR\n",
      "Skipping line as it does not have a name field: OBO:go#goslim_aspergillus\tbiolink:OntologyClass\t\t\t\thp-full.json\t\thttp://purl.obolibrary.org/obo/go#goslim_aspergillus\n",
      "Skipping line as it does not have a name field: OBO:uberon/core#vertebrate_core\tbiolink:OntologyClass\t\t\t\thp-full.json\t\thttp://purl.obolibrary.org/obo/uberon/core#vertebrate_core\n",
      "Skipping line as it does not have a name field: OBO:pato#absent_slim\tbiolink:OntologyClass\t\t\t\thp-full.json\t\thttp://purl.obolibrary.org/obo/pato#absent_slim\n",
      "Skipping line as it does not have a name field: OBO:uberon/core#early_development\tbiolink:OntologyClass\t\t\t\thp-full.json\t\thttp://purl.obolibrary.org/obo/uberon/core#early_development\n",
      "Skipping line as it does not have a name field: OBO:uberon/core#cumbo\tbiolink:OntologyClass\t\t\t\thp-full.json\t\thttp://purl.obolibrary.org/obo/uberon/core#cumbo\n",
      "Skipping line as it does not have a name field: OBO:uberon/core#unverified_taxonomic_grouping\tbiolink:OntologyClass\t\t\t\thp-full.json\t\thttp://purl.obolibrary.org/obo/uberon/core#unverified_taxonomic_grouping\n",
      "Skipping line as it does not have a name field: OBO:pato#mpath_slim\tbiolink:OntologyClass\t\t\t\thp-full.json\t\thttp://purl.obolibrary.org/obo/pato#mpath_slim\n",
      "Skipping line as it does not have a name field: OBO:uberon/core#major_organ\tbiolink:OntologyClass\t\t\t\thp-full.json\t\thttp://purl.obolibrary.org/obo/uberon/core#major_organ\n",
      "Skipping line as it does not have a name field: OBO:pato#disposition_slim\tbiolink:OntologyClass\t\t\t\thp-full.json\t\thttp://purl.obolibrary.org/obo/pato#disposition_slim\n",
      "Skipping line as it does not have a name field: OBO:chebi#3_STAR\tbiolink:OntologyClass\t\t\t\thp-full.json\t\thttp://purl.obolibrary.org/obo/chebi#3_STAR\n",
      "Skipping line as it does not have a name field: OBO:uberon/core#defined_by_ordinal_series\tbiolink:OntologyClass\t\t\t\thp-full.json\t\thttp://purl.obolibrary.org/obo/uberon/core#defined_by_ordinal_series\n",
      "Skipping line as it does not have a name field: OBO:pato#hpo_slim\tbiolink:OntologyClass\t\t\t\thp-full.json\t\thttp://purl.obolibrary.org/obo/pato#hpo_slim\n",
      "Skipping line as it does not have a name field: OBO:go#goslim_mouse\tbiolink:OntologyClass\t\t\t\thp-full.json\t\thttp://purl.obolibrary.org/obo/go#goslim_mouse\n",
      "Skipping line as it does not have a name field: OBO:hp#hposlim_core\tbiolink:OntologyClass\t\t\t\thp-full.json\t\thttp://purl.obolibrary.org/obo/hp#hposlim_core\n",
      "Skipping line as it does not have a name field: OBO:pato#cell_quality\tbiolink:OntologyClass\t\t\t\thp-full.json\t\thttp://purl.obolibrary.org/obo/pato#cell_quality\n",
      "Skipping line as it does not have a name field: OBO:pato#value_slim\tbiolink:OntologyClass\t\t\t\thp-full.json\t\thttp://purl.obolibrary.org/obo/pato#value_slim\n",
      "Skipping line as it does not have a name field: OBO:go#goslim_pir\tbiolink:OntologyClass\t\t\t\thp-full.json\t\thttp://purl.obolibrary.org/obo/go#goslim_pir\n",
      "Skipping line as it does not have a name field: OBO:go#gocheck_do_not_manually_annotate\tbiolink:OntologyClass\t\t\t\thp-full.json\t\thttp://purl.obolibrary.org/obo/go#gocheck_do_not_manually_annotate\n",
      "Skipping line as it does not have a name field: OBO:uberon/core#non_informative\tbiolink:OntologyClass\t\t\t\thp-full.json\t\thttp://purl.obolibrary.org/obo/uberon/core#non_informative\n",
      "Skipping line as it does not have a name field: OBO:go#goslim_pombe\tbiolink:OntologyClass\t\t\t\thp-full.json\t\thttp://purl.obolibrary.org/obo/go#goslim_pombe\n",
      "Skipping line as it does not have a name field: OBO:uberon/core#feed_aligned\tbiolink:OntologyClass\t\t\t\thp-full.json\t\thttp://purl.obolibrary.org/obo/uberon/core#feed_aligned\n",
      "Skipping line as it does not have a name field: OBO:uberon/core#inconsistent_with_fma\tbiolink:OntologyClass\t\t\t\thp-full.json\t\thttp://purl.obolibrary.org/obo/uberon/core#inconsistent_with_fma\n",
      "Skipping line as it does not have a name field: OBO:uberon/core#pheno_slim\tbiolink:OntologyClass\t\t\t\thp-full.json\t\thttp://purl.obolibrary.org/obo/uberon/core#pheno_slim\n",
      "Skipping line as it does not have a name field: OBO:uberon/core#phenotype_rcn\tbiolink:OntologyClass\t\t\t\thp-full.json\t\thttp://purl.obolibrary.org/obo/uberon/core#phenotype_rcn\n",
      "Skipping line as it does not have a name field: OBO:uberon/core#uberon_slim\tbiolink:OntologyClass\t\t\t\thp-full.json\t\thttp://purl.obolibrary.org/obo/uberon/core#uberon_slim\n",
      "Skipping line as it does not have a name field: OBO:go#goslim_candida\tbiolink:OntologyClass\t\t\t\thp-full.json\t\thttp://purl.obolibrary.org/obo/go#goslim_candida\n",
      "Skipping line as it does not have a name field: owl:topObjectProperty\tbiolink:NamedThing\n"
     ]
    }
   ],
   "source": [
    "# One time run\n",
    "#runner.json2tsv(termsDir+'hp-full.json', termsDir+'hp')\n",
    "#runner.prepare_termlist(termsDir+'hp_nodes.tsv', termsDir+'hp_termlist.tsv')"
   ]
  },
  {
   "cell_type": "code",
   "execution_count": 9,
   "id": "572a6de9",
   "metadata": {},
   "outputs": [],
   "source": [
    "# Convert pdf to txt\n",
    "def pdf2Text(listOfPDF):\n",
    "    for pdf in listOfPDF:\n",
    "        with fitz.open(pdf) as doc:\n",
    "            text = \"\"\n",
    "            for page in doc:\n",
    "                text += page.getText()\n",
    "        if text == '':\n",
    "            scannedPDFs.append(pdf)\n",
    "        subsetText = getSubsetText(text)\n",
    "        #print(subsetText)\n",
    "        fn = (pdf.split('/')[-1].replace('pdf', 'txt'))\n",
    "        outFile = os.path.join(inputDir, fn)\n",
    "\n",
    "        with open(outFile, 'w') as of:\n",
    "            of.writelines(subsetText)\n",
    "            print('File written: '+outFile)"
   ]
  },
  {
   "cell_type": "code",
   "execution_count": 10,
   "id": "b3476e66",
   "metadata": {},
   "outputs": [
    {
     "name": "stdout",
     "output_type": "stream",
     "text": [
      "File written: ../data/input/CaseReport16.txt\n",
      "File written: ../data/input/CaseReport17.txt\n",
      "File written: ../data/input/CaseReport15.txt\n",
      "File written: ../data/input/CaseReport14.txt\n",
      "File written: ../data/input/CaseReport10.txt\n",
      "File written: ../data/input/CaseReport11.txt\n",
      "File written: ../data/input/CaseReport13.txt\n",
      "File written: ../data/input/CaseReport12.txt\n",
      "File written: ../data/input/CaseReport3.txt\n",
      "File written: ../data/input/CaseReport2.txt\n",
      "File written: ../data/input/Epicrisis24.txt\n",
      "File written: ../data/input/CaseReport1.txt\n",
      "File written: ../data/input/CaseReport5.txt\n",
      "File written: ../data/input/CaseReport4.txt\n",
      "File written: ../data/input/Epicrisis22.txt\n",
      "File written: ../data/input/CaseReport6.txt\n",
      "File written: ../data/input/CaseReport7.txt\n",
      "File written: ../data/input/Epicrisis11.txt\n",
      "File written: ../data/input/CaseReport9.txt\n",
      "File written: ../data/input/CaseReport8.txt\n",
      "File written: ../data/input/CaseReport23.txt\n",
      "File written: ../data/input/CaseReport22.txt\n",
      "File written: ../data/input/CaseReport20.txt\n",
      "File written: ../data/input/CaseReport21.txt\n",
      "File written: ../data/input/CaseReport19.txt\n",
      "File written: ../data/input/CaseReport24.txt\n",
      "File written: ../data/input/CaseReport18.txt\n"
     ]
    }
   ],
   "source": [
    "pdf2Text(listOfPDF)"
   ]
  },
  {
   "cell_type": "code",
   "execution_count": 11,
   "id": "6684a0e0",
   "metadata": {},
   "outputs": [],
   "source": [
    "for doc in scannedPDFs:\n",
    "    ! ocrmypdf $doc $doc"
   ]
  },
  {
   "cell_type": "code",
   "execution_count": 12,
   "id": "34a0bab5",
   "metadata": {},
   "outputs": [],
   "source": [
    "pdf2Text(scannedPDFs)"
   ]
  },
  {
   "cell_type": "code",
   "execution_count": 13,
   "id": "ecba49f9",
   "metadata": {},
   "outputs": [
    {
     "name": "stdout",
     "output_type": "stream",
     "text": [
      "File written: ../data/input/Epicrisis21.txt\n",
      "File written: ../data/input/Epicrisis2.txt\n",
      "File written: ../data/input/Epicrisis17.txt\n",
      "File written: ../data/input/Epicrisis16.txt\n",
      "File written: ../data/input/Epicrisis3.txt\n",
      "File written: ../data/input/Epicrisis20.txt\n",
      "File written: ../data/input/Epicrisis8.txt\n",
      "File written: ../data/input/Epicrisis4.txt\n",
      "File written: ../data/input/Epicrisis5.txt\n",
      "File written: ../data/input/Epicrisis10.txt\n",
      "File written: ../data/input/Epicrisis9.txt\n",
      "File written: ../data/input/Epicrisis13.txt\n",
      "File written: ../data/input/Epicrisis6.txt\n",
      "File written: ../data/input/Epicrisis25.txt\n",
      "File written: ../data/input/Epicrisis7.txt\n",
      "File written: ../data/input/Epicrisis12.txt\n",
      "File written: ../data/input/Epicrisis19.txt\n",
      "File written: ../data/input/Epicrisis23.txt\n",
      "File written: ../data/input/Epicrisis15.txt\n",
      "File written: ../data/input/Epicrisis14.txt\n",
      "File written: ../data/input/Epicrisis1.txt\n",
      "File written: ../data/input/Epicrisis18.txt\n"
     ]
    }
   ],
   "source": [
    "# Convert docx to txt\n",
    "for docx in listOfDocs:\n",
    "    doc = Document(docx)\n",
    "    text = ''\n",
    "    for para in doc.paragraphs:\n",
    "        text += para.text\n",
    "    fn = docx.split('/')[-1].replace('docx', 'txt')\n",
    "    outFile = os.path.join(inputDir, fn)\n",
    "    \n",
    "    with open(outFile, 'w') as of:\n",
    "        of.writelines(text)\n",
    "        print('File written: '+outFile)\n",
    "        "
   ]
  },
  {
   "cell_type": "code",
   "execution_count": 14,
   "id": "62f976cd",
   "metadata": {},
   "outputs": [],
   "source": [
    "# Run runNER\n",
    "runner.run_oger(settings=settingsFile)"
   ]
  },
  {
   "cell_type": "code",
   "execution_count": 16,
   "id": "3c91750a",
   "metadata": {},
   "outputs": [
    {
     "ename": "KeyError",
     "evalue": "\"['ZONE' 'SENTENCE ID' 'UMLS CUI'] not found in axis\"",
     "output_type": "error",
     "traceback": [
      "\u001b[0;31m---------------------------------------------------------------------------\u001b[0m",
      "\u001b[0;31mKeyError\u001b[0m                                  Traceback (most recent call last)",
      "\u001b[0;32m<ipython-input-16-eb7c3af996b7>\u001b[0m in \u001b[0;36m<module>\u001b[0;34m\u001b[0m\n\u001b[1;32m      1\u001b[0m \u001b[0;31m# read runNER output\u001b[0m\u001b[0;34m\u001b[0m\u001b[0;34m\u001b[0m\u001b[0;34m\u001b[0m\u001b[0m\n\u001b[1;32m      2\u001b[0m \u001b[0mdf\u001b[0m \u001b[0;34m=\u001b[0m \u001b[0mpd\u001b[0m\u001b[0;34m.\u001b[0m\u001b[0mread_csv\u001b[0m\u001b[0;34m(\u001b[0m\u001b[0mos\u001b[0m\u001b[0;34m.\u001b[0m\u001b[0mpath\u001b[0m\u001b[0;34m.\u001b[0m\u001b[0mjoin\u001b[0m\u001b[0;34m(\u001b[0m\u001b[0moutputDir\u001b[0m\u001b[0;34m,\u001b[0m \u001b[0;34m'runNER_Output.tsv'\u001b[0m\u001b[0;34m)\u001b[0m\u001b[0;34m,\u001b[0m \u001b[0msep\u001b[0m\u001b[0;34m=\u001b[0m\u001b[0;34m'\\t'\u001b[0m\u001b[0;34m,\u001b[0m \u001b[0mlow_memory\u001b[0m\u001b[0;34m=\u001b[0m\u001b[0;32mFalse\u001b[0m\u001b[0;34m)\u001b[0m\u001b[0;34m\u001b[0m\u001b[0;34m\u001b[0m\u001b[0m\n\u001b[0;32m----> 3\u001b[0;31m \u001b[0mdf\u001b[0m \u001b[0;34m=\u001b[0m \u001b[0mdf\u001b[0m\u001b[0;34m.\u001b[0m\u001b[0mdrop\u001b[0m\u001b[0;34m(\u001b[0m\u001b[0;34m[\u001b[0m\u001b[0;34m'ZONE'\u001b[0m\u001b[0;34m,\u001b[0m \u001b[0;34m'SENTENCE ID'\u001b[0m\u001b[0;34m,\u001b[0m \u001b[0;34m'UMLS CUI'\u001b[0m\u001b[0;34m]\u001b[0m\u001b[0;34m,\u001b[0m \u001b[0maxis\u001b[0m \u001b[0;34m=\u001b[0m \u001b[0;36m1\u001b[0m\u001b[0;34m)\u001b[0m\u001b[0;34m\u001b[0m\u001b[0;34m\u001b[0m\u001b[0m\n\u001b[0m\u001b[1;32m      4\u001b[0m \u001b[0mdf\u001b[0m\u001b[0;34m.\u001b[0m\u001b[0mhead\u001b[0m\u001b[0;34m(\u001b[0m\u001b[0;34m)\u001b[0m\u001b[0;34m\u001b[0m\u001b[0;34m\u001b[0m\u001b[0m\n",
      "\u001b[0;32m/opt/anaconda3/envs/pulmoGrp/lib/python3.9/site-packages/pandas/core/frame.py\u001b[0m in \u001b[0;36mdrop\u001b[0;34m(self, labels, axis, index, columns, level, inplace, errors)\u001b[0m\n\u001b[1;32m   4306\u001b[0m                 \u001b[0mweight\u001b[0m  \u001b[0;36m1.0\u001b[0m     \u001b[0;36m0.8\u001b[0m\u001b[0;34m\u001b[0m\u001b[0;34m\u001b[0m\u001b[0m\n\u001b[1;32m   4307\u001b[0m         \"\"\"\n\u001b[0;32m-> 4308\u001b[0;31m         return super().drop(\n\u001b[0m\u001b[1;32m   4309\u001b[0m             \u001b[0mlabels\u001b[0m\u001b[0;34m=\u001b[0m\u001b[0mlabels\u001b[0m\u001b[0;34m,\u001b[0m\u001b[0;34m\u001b[0m\u001b[0;34m\u001b[0m\u001b[0m\n\u001b[1;32m   4310\u001b[0m             \u001b[0maxis\u001b[0m\u001b[0;34m=\u001b[0m\u001b[0maxis\u001b[0m\u001b[0;34m,\u001b[0m\u001b[0;34m\u001b[0m\u001b[0;34m\u001b[0m\u001b[0m\n",
      "\u001b[0;32m/opt/anaconda3/envs/pulmoGrp/lib/python3.9/site-packages/pandas/core/generic.py\u001b[0m in \u001b[0;36mdrop\u001b[0;34m(self, labels, axis, index, columns, level, inplace, errors)\u001b[0m\n\u001b[1;32m   4151\u001b[0m         \u001b[0;32mfor\u001b[0m \u001b[0maxis\u001b[0m\u001b[0;34m,\u001b[0m \u001b[0mlabels\u001b[0m \u001b[0;32min\u001b[0m \u001b[0maxes\u001b[0m\u001b[0;34m.\u001b[0m\u001b[0mitems\u001b[0m\u001b[0;34m(\u001b[0m\u001b[0;34m)\u001b[0m\u001b[0;34m:\u001b[0m\u001b[0;34m\u001b[0m\u001b[0;34m\u001b[0m\u001b[0m\n\u001b[1;32m   4152\u001b[0m             \u001b[0;32mif\u001b[0m \u001b[0mlabels\u001b[0m \u001b[0;32mis\u001b[0m \u001b[0;32mnot\u001b[0m \u001b[0;32mNone\u001b[0m\u001b[0;34m:\u001b[0m\u001b[0;34m\u001b[0m\u001b[0;34m\u001b[0m\u001b[0m\n\u001b[0;32m-> 4153\u001b[0;31m                 \u001b[0mobj\u001b[0m \u001b[0;34m=\u001b[0m \u001b[0mobj\u001b[0m\u001b[0;34m.\u001b[0m\u001b[0m_drop_axis\u001b[0m\u001b[0;34m(\u001b[0m\u001b[0mlabels\u001b[0m\u001b[0;34m,\u001b[0m \u001b[0maxis\u001b[0m\u001b[0;34m,\u001b[0m \u001b[0mlevel\u001b[0m\u001b[0;34m=\u001b[0m\u001b[0mlevel\u001b[0m\u001b[0;34m,\u001b[0m \u001b[0merrors\u001b[0m\u001b[0;34m=\u001b[0m\u001b[0merrors\u001b[0m\u001b[0;34m)\u001b[0m\u001b[0;34m\u001b[0m\u001b[0;34m\u001b[0m\u001b[0m\n\u001b[0m\u001b[1;32m   4154\u001b[0m \u001b[0;34m\u001b[0m\u001b[0m\n\u001b[1;32m   4155\u001b[0m         \u001b[0;32mif\u001b[0m \u001b[0minplace\u001b[0m\u001b[0;34m:\u001b[0m\u001b[0;34m\u001b[0m\u001b[0;34m\u001b[0m\u001b[0m\n",
      "\u001b[0;32m/opt/anaconda3/envs/pulmoGrp/lib/python3.9/site-packages/pandas/core/generic.py\u001b[0m in \u001b[0;36m_drop_axis\u001b[0;34m(self, labels, axis, level, errors)\u001b[0m\n\u001b[1;32m   4186\u001b[0m                 \u001b[0mnew_axis\u001b[0m \u001b[0;34m=\u001b[0m \u001b[0maxis\u001b[0m\u001b[0;34m.\u001b[0m\u001b[0mdrop\u001b[0m\u001b[0;34m(\u001b[0m\u001b[0mlabels\u001b[0m\u001b[0;34m,\u001b[0m \u001b[0mlevel\u001b[0m\u001b[0;34m=\u001b[0m\u001b[0mlevel\u001b[0m\u001b[0;34m,\u001b[0m \u001b[0merrors\u001b[0m\u001b[0;34m=\u001b[0m\u001b[0merrors\u001b[0m\u001b[0;34m)\u001b[0m\u001b[0;34m\u001b[0m\u001b[0;34m\u001b[0m\u001b[0m\n\u001b[1;32m   4187\u001b[0m             \u001b[0;32melse\u001b[0m\u001b[0;34m:\u001b[0m\u001b[0;34m\u001b[0m\u001b[0;34m\u001b[0m\u001b[0m\n\u001b[0;32m-> 4188\u001b[0;31m                 \u001b[0mnew_axis\u001b[0m \u001b[0;34m=\u001b[0m \u001b[0maxis\u001b[0m\u001b[0;34m.\u001b[0m\u001b[0mdrop\u001b[0m\u001b[0;34m(\u001b[0m\u001b[0mlabels\u001b[0m\u001b[0;34m,\u001b[0m \u001b[0merrors\u001b[0m\u001b[0;34m=\u001b[0m\u001b[0merrors\u001b[0m\u001b[0;34m)\u001b[0m\u001b[0;34m\u001b[0m\u001b[0;34m\u001b[0m\u001b[0m\n\u001b[0m\u001b[1;32m   4189\u001b[0m             \u001b[0mresult\u001b[0m \u001b[0;34m=\u001b[0m \u001b[0mself\u001b[0m\u001b[0;34m.\u001b[0m\u001b[0mreindex\u001b[0m\u001b[0;34m(\u001b[0m\u001b[0;34m**\u001b[0m\u001b[0;34m{\u001b[0m\u001b[0maxis_name\u001b[0m\u001b[0;34m:\u001b[0m \u001b[0mnew_axis\u001b[0m\u001b[0;34m}\u001b[0m\u001b[0;34m)\u001b[0m\u001b[0;34m\u001b[0m\u001b[0;34m\u001b[0m\u001b[0m\n\u001b[1;32m   4190\u001b[0m \u001b[0;34m\u001b[0m\u001b[0m\n",
      "\u001b[0;32m/opt/anaconda3/envs/pulmoGrp/lib/python3.9/site-packages/pandas/core/indexes/base.py\u001b[0m in \u001b[0;36mdrop\u001b[0;34m(self, labels, errors)\u001b[0m\n\u001b[1;32m   5589\u001b[0m         \u001b[0;32mif\u001b[0m \u001b[0mmask\u001b[0m\u001b[0;34m.\u001b[0m\u001b[0many\u001b[0m\u001b[0;34m(\u001b[0m\u001b[0;34m)\u001b[0m\u001b[0;34m:\u001b[0m\u001b[0;34m\u001b[0m\u001b[0;34m\u001b[0m\u001b[0m\n\u001b[1;32m   5590\u001b[0m             \u001b[0;32mif\u001b[0m \u001b[0merrors\u001b[0m \u001b[0;34m!=\u001b[0m \u001b[0;34m\"ignore\"\u001b[0m\u001b[0;34m:\u001b[0m\u001b[0;34m\u001b[0m\u001b[0;34m\u001b[0m\u001b[0m\n\u001b[0;32m-> 5591\u001b[0;31m                 \u001b[0;32mraise\u001b[0m \u001b[0mKeyError\u001b[0m\u001b[0;34m(\u001b[0m\u001b[0;34mf\"{labels[mask]} not found in axis\"\u001b[0m\u001b[0;34m)\u001b[0m\u001b[0;34m\u001b[0m\u001b[0;34m\u001b[0m\u001b[0m\n\u001b[0m\u001b[1;32m   5592\u001b[0m             \u001b[0mindexer\u001b[0m \u001b[0;34m=\u001b[0m \u001b[0mindexer\u001b[0m\u001b[0;34m[\u001b[0m\u001b[0;34m~\u001b[0m\u001b[0mmask\u001b[0m\u001b[0;34m]\u001b[0m\u001b[0;34m\u001b[0m\u001b[0;34m\u001b[0m\u001b[0m\n\u001b[1;32m   5593\u001b[0m         \u001b[0;32mreturn\u001b[0m \u001b[0mself\u001b[0m\u001b[0;34m.\u001b[0m\u001b[0mdelete\u001b[0m\u001b[0;34m(\u001b[0m\u001b[0mindexer\u001b[0m\u001b[0;34m)\u001b[0m\u001b[0;34m\u001b[0m\u001b[0;34m\u001b[0m\u001b[0m\n",
      "\u001b[0;31mKeyError\u001b[0m: \"['ZONE' 'SENTENCE ID' 'UMLS CUI'] not found in axis\""
     ]
    }
   ],
   "source": [
    "# read runNER output\n",
    "df = pd.read_csv(os.path.join(outputDir, 'runNER_Output.tsv'), sep='\\t', low_memory=False)\n",
    "df.head()"
   ]
  },
  {
   "cell_type": "code",
   "execution_count": null,
   "id": "2ad7ccf7",
   "metadata": {},
   "outputs": [],
   "source": [
    "filteredDF = df[df['ENTITY ID'].str.startswith('HP:')].drop_duplicates()\n",
    "filteredDF.head()"
   ]
  },
  {
   "cell_type": "code",
   "execution_count": null,
   "id": "624b933d",
   "metadata": {},
   "outputs": [],
   "source": [
    "filteredDF.to_csv(os.path.join(outputDir,'filteredOutput.tsv'), sep='\\t', index=None)"
   ]
  },
  {
   "cell_type": "code",
   "execution_count": null,
   "id": "38511813",
   "metadata": {},
   "outputs": [],
   "source": []
  }
 ],
 "metadata": {
  "kernelspec": {
   "display_name": "Python 3",
   "language": "python",
   "name": "python3"
  },
  "language_info": {
   "codemirror_mode": {
    "name": "ipython",
    "version": 3
   },
   "file_extension": ".py",
   "mimetype": "text/x-python",
   "name": "python",
   "nbconvert_exporter": "python",
   "pygments_lexer": "ipython3",
   "version": "3.9.4"
  }
 },
 "nbformat": 4,
 "nbformat_minor": 5
}
