{
 "cells": [
  {
   "cell_type": "code",
   "execution_count": 1,
   "id": "f926bc7e",
   "metadata": {},
   "outputs": [],
   "source": [
    "%reset -f"
   ]
  },
  {
   "cell_type": "code",
   "execution_count": 2,
   "id": "63f7d91a",
   "metadata": {},
   "outputs": [],
   "source": [
    "import ocrmypdf"
   ]
  },
  {
   "cell_type": "code",
   "execution_count": 3,
   "id": "c631feff",
   "metadata": {},
   "outputs": [],
   "source": [
    "ocrFolder = 'data/ocr'"
   ]
  },
  {
   "cell_type": "code",
   "execution_count": 9,
   "id": "16524374",
   "metadata": {},
   "outputs": [
    {
     "name": "stdout",
     "output_type": "stream",
     "text": [
      "Scanning contents: 100%|████████████████████████| 1/1 [00:00<00:00,  9.68page/s]\n",
      "OCR: 100%|██████████████████████████████████| 1.0/1.0 [00:01<00:00,  1.95s/page]\n",
      "Postprocessing...\n",
      "\u001b[33mSome input metadata could not be copied because it is not permitted in PDF/A. You may wish to examine the output PDF's XMP metadata.\u001b[0m\n",
      "PDF/A conversion: 100%|█████████████████████████| 1/1 [00:00<00:00,  5.16page/s]\n",
      "JPEGs: 0image [00:00, ?image/s]\n",
      "JBIG2: 0item [00:00, ?item/s]\n",
      "Optimize ratio: 1.00 savings: 0.0%\n",
      "Output file is a PDF/A-2B (as expected)\n"
     ]
    }
   ],
   "source": [
    "! ocrmypdf ../data/ocr/Epicrisis24.pdf ../data/ocr/Epicrisis24_converted.pdf"
   ]
  },
  {
   "cell_type": "code",
   "execution_count": null,
   "id": "e8ce9d6b",
   "metadata": {},
   "outputs": [],
   "source": []
  }
 ],
 "metadata": {
  "kernelspec": {
   "display_name": "Python 3",
   "language": "python",
   "name": "python3"
  },
  "language_info": {
   "codemirror_mode": {
    "name": "ipython",
    "version": 3
   },
   "file_extension": ".py",
   "mimetype": "text/x-python",
   "name": "python",
   "nbconvert_exporter": "python",
   "pygments_lexer": "ipython3",
   "version": "3.9.4"
  }
 },
 "nbformat": 4,
 "nbformat_minor": 5
}
